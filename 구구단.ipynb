{
 "cells": [
  {
   "cell_type": "markdown",
   "metadata": {},
   "source": [
    "# 구구단"
   ]
  },
  {
   "cell_type": "code",
   "execution_count": 8,
   "metadata": {},
   "outputs": [],
   "source": [
    "def time_table(num):\n",
    "    n=1\n",
    "    while n <= 9:\n",
    "        print(num, \" x \", n, \" = \", n*num)\n",
    "        n = n+1"
   ]
  },
  {
   "cell_type": "code",
   "execution_count": 9,
   "metadata": {},
   "outputs": [
    {
     "name": "stdout",
     "output_type": "stream",
     "text": [
      "(8, ' x ', 1, ' = ', 8)\n",
      "(8, ' x ', 2, ' = ', 16)\n",
      "(8, ' x ', 3, ' = ', 24)\n",
      "(8, ' x ', 4, ' = ', 32)\n",
      "(8, ' x ', 5, ' = ', 40)\n",
      "(8, ' x ', 6, ' = ', 48)\n",
      "(8, ' x ', 7, ' = ', 56)\n",
      "(8, ' x ', 8, ' = ', 64)\n",
      "(8, ' x ', 9, ' = ', 72)\n"
     ]
    }
   ],
   "source": [
    "time_table(8)"
   ]
  },
  {
   "cell_type": "code",
   "execution_count": null,
   "metadata": {},
   "outputs": [],
   "source": []
  }
 ],
 "metadata": {
  "kernelspec": {
   "display_name": "Python 2",
   "language": "python",
   "name": "python2"
  },
  "language_info": {
   "codemirror_mode": {
    "name": "ipython",
    "version": 2
   },
   "file_extension": ".py",
   "mimetype": "text/x-python",
   "name": "python",
   "nbconvert_exporter": "python",
   "pygments_lexer": "ipython2",
   "version": "2.7.14"
  }
 },
 "nbformat": 4,
 "nbformat_minor": 2
}
